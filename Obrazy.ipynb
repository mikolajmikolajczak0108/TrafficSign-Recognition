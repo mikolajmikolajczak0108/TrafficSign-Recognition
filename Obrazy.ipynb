{
 "cells": [
  {
   "cell_type": "markdown",
   "id": "f183bb18",
   "metadata": {
    "id": "f183bb18"
   },
   "source": [
    "# Projekt: Rozpoznawanie i Odporność Modelu na Znaki Drogowe"
   ]
  },
  {
   "cell_type": "markdown",
   "id": "4f6ea0a6",
   "metadata": {
    "id": "4f6ea0a6"
   },
   "source": [
    "### Struktura projektu"
   ]
  },
  {
   "cell_type": "markdown",
   "id": "688ccbcc",
   "metadata": {
    "id": "688ccbcc"
   },
   "source": [
    "\n",
    "1. **Modularność**: Kod podzielony na sekcje dla przetwarzania danych, trenowania modelu, testowania i generowania ataków adversarialnych.\n",
    "2. **Reużywalność**: Możliwość łatwego dostosowania do innych zbiorów danych.\n"
   ]
  },
  {
   "cell_type": "markdown",
   "id": "938b2141",
   "metadata": {
    "id": "938b2141"
   },
   "source": [
    "## Importowanie bibliotek"
   ]
  },
  {
   "cell_type": "code",
   "execution_count": 2,
   "id": "008ef86c",
   "metadata": {
    "id": "008ef86c"
   },
   "outputs": [
    {
     "ename": "ModuleNotFoundError",
     "evalue": "No module named 'sklearn'",
     "output_type": "error",
     "traceback": [
      "\u001b[1;31m---------------------------------------------------------------------------\u001b[0m",
      "\u001b[1;31mModuleNotFoundError\u001b[0m                       Traceback (most recent call last)",
      "Cell \u001b[1;32mIn[2], line 9\u001b[0m\n\u001b[0;32m      7\u001b[0m \u001b[38;5;28;01mfrom\u001b[39;00m \u001b[38;5;21;01mtensorflow\u001b[39;00m\u001b[38;5;21;01m.\u001b[39;00m\u001b[38;5;21;01mkeras\u001b[39;00m\u001b[38;5;21;01m.\u001b[39;00m\u001b[38;5;21;01mutils\u001b[39;00m \u001b[38;5;28;01mimport\u001b[39;00m to_categorical\n\u001b[0;32m      8\u001b[0m \u001b[38;5;28;01mfrom\u001b[39;00m \u001b[38;5;21;01mtensorflow\u001b[39;00m\u001b[38;5;21;01m.\u001b[39;00m\u001b[38;5;21;01mkeras\u001b[39;00m\u001b[38;5;21;01m.\u001b[39;00m\u001b[38;5;21;01mpreprocessing\u001b[39;00m\u001b[38;5;21;01m.\u001b[39;00m\u001b[38;5;21;01mimage\u001b[39;00m \u001b[38;5;28;01mimport\u001b[39;00m ImageDataGenerator\n\u001b[1;32m----> 9\u001b[0m \u001b[38;5;28;01mfrom\u001b[39;00m \u001b[38;5;21;01msklearn\u001b[39;00m\u001b[38;5;21;01m.\u001b[39;00m\u001b[38;5;21;01mmodel_selection\u001b[39;00m \u001b[38;5;28;01mimport\u001b[39;00m train_test_split\n\u001b[0;32m     10\u001b[0m \u001b[38;5;28;01mfrom\u001b[39;00m \u001b[38;5;21;01msklearn\u001b[39;00m\u001b[38;5;21;01m.\u001b[39;00m\u001b[38;5;21;01mmetrics\u001b[39;00m \u001b[38;5;28;01mimport\u001b[39;00m classification_report, confusion_matrix\n\u001b[0;32m     11\u001b[0m \u001b[38;5;28;01mfrom\u001b[39;00m \u001b[38;5;21;01mfoolbox\u001b[39;00m \u001b[38;5;28;01mimport\u001b[39;00m PyTorchModel, accuracy, samples, attacks\n",
      "\u001b[1;31mModuleNotFoundError\u001b[0m: No module named 'sklearn'"
     ]
    }
   ],
   "source": [
    "\n",
    "import os\n",
    "import numpy as np\n",
    "import cv2\n",
    "import matplotlib.pyplot as plt\n",
    "from tensorflow.keras.models import Sequential, load_model\n",
    "from tensorflow.keras.layers import Conv2D, MaxPooling2D, Flatten, Dense, Dropout\n",
    "from tensorflow.keras.utils import to_categorical\n",
    "from tensorflow.keras.preprocessing.image import ImageDataGenerator\n",
    "from sklearn.model_selection import train_test_split\n",
    "from sklearn.metrics import classification_report, confusion_matrix\n",
    "from foolbox import PyTorchModel, accuracy, samples, attacks\n",
    "import torch\n",
    "import torchvision.transforms as transforms\n"
   ]
  },
  {
   "cell_type": "markdown",
   "id": "9084455e",
   "metadata": {
    "id": "9084455e"
   },
   "source": [
    "## 1. Przetwarzanie danych"
   ]
  },
  {
   "cell_type": "code",
   "execution_count": null,
   "id": "7b142269",
   "metadata": {
    "id": "7b142269"
   },
   "outputs": [],
   "source": [
    "\n",
    "# Ścieżka do zbioru danych\n",
    "data_dir = 'GTSRB/Final_Training/Images'\n",
    "num_classes = 43  # Liczba klas w zestawie danych GTSRB\n",
    "\n",
    "# Wczytywanie danych\n",
    "def load_data(data_dir, img_size=(32, 32)):\n",
    "    images = []\n",
    "    labels = []\n",
    "    for class_id in range(num_classes):\n",
    "        class_dir = os.path.join(data_dir, '{0:05d}'.format(class_id))\n",
    "        if not os.path.exists(class_dir):\n",
    "            continue\n",
    "        for img_name in os.listdir(class_dir):\n",
    "            img_path = os.path.join(class_dir, img_name)\n",
    "            img = cv2.imread(img_path, cv2.IMREAD_GRAYSCALE)\n",
    "            img = cv2.resize(img, img_size)\n",
    "            images.append(img)\n",
    "            labels.append(class_id)\n",
    "    return np.array(images), np.array(labels)\n",
    "\n",
    "images, labels = load_data(data_dir)\n",
    "# Normalizacja danych\n",
    "images = images.reshape(-1, 32, 32, 1) / 255.0\n",
    "labels = to_categorical(labels, num_classes)\n",
    "# Podział na zestawy treningowe i walidacyjne\n",
    "X_train, X_val, y_train, y_val = train_test_split(images, labels, test_size=0.2, random_state=42)\n"
   ]
  },
  {
   "cell_type": "markdown",
   "id": "a1ea3f09",
   "metadata": {
    "id": "a1ea3f09"
   },
   "source": [
    "## 2. Definicja modelu"
   ]
  },
  {
   "cell_type": "code",
   "execution_count": null,
   "id": "b9cdf24e",
   "metadata": {
    "id": "b9cdf24e"
   },
   "outputs": [],
   "source": [
    "\n",
    "model = Sequential([\n",
    "    Conv2D(32, (3, 3), activation='relu', input_shape=(32, 32, 1)),\n",
    "    MaxPooling2D(2, 2),\n",
    "    Conv2D(64, (3, 3), activation='relu'),\n",
    "    MaxPooling2D(2, 2),\n",
    "    Flatten(),\n",
    "    Dense(128, activation='relu'),\n",
    "    Dropout(0.5),\n",
    "    Dense(num_classes, activation='softmax')\n",
    "])\n",
    "\n",
    "model.compile(optimizer='adam', loss='categorical_crossentropy', metrics=['accuracy'])\n"
   ]
  },
  {
   "cell_type": "markdown",
   "id": "b2e41bd9",
   "metadata": {
    "id": "b2e41bd9"
   },
   "source": [
    "## 3. Trenowanie modelu"
   ]
  },
  {
   "cell_type": "code",
   "execution_count": null,
   "id": "bcec18d3",
   "metadata": {
    "id": "bcec18d3"
   },
   "outputs": [],
   "source": [
    "\n",
    "# Augmentacja danych\n",
    "datagen = ImageDataGenerator(rotation_range=10, zoom_range=0.1, width_shift_range=0.1, height_shift_range=0.1)\n",
    "datagen.fit(X_train)\n",
    "\n",
    "# Trenowanie modelu\n",
    "history = model.fit(datagen.flow(X_train, y_train, batch_size=64),\n",
    "                    epochs=15,\n",
    "                    validation_data=(X_val, y_val))\n"
   ]
  },
  {
   "cell_type": "markdown",
   "id": "00ade55d",
   "metadata": {
    "id": "00ade55d"
   },
   "source": [
    "## 4. Testowanie modelu"
   ]
  },
  {
   "cell_type": "code",
   "execution_count": null,
   "id": "e01f5afb",
   "metadata": {
    "id": "e01f5afb"
   },
   "outputs": [],
   "source": [
    "\n",
    "# Ocena modelu\n",
    "val_loss, val_acc = model.evaluate(X_val, y_val)\n",
    "print(f'Loss: {val_loss}, Accuracy: {val_acc}')\n",
    "\n",
    "# Macierz pomyłek\n",
    "y_pred = model.predict(X_val)\n",
    "y_pred_classes = np.argmax(y_pred, axis=1)\n",
    "y_true = np.argmax(y_val, axis=1)\n",
    "\n",
    "conf_matrix = confusion_matrix(y_true, y_pred_classes)\n",
    "print(conf_matrix)\n"
   ]
  },
  {
   "cell_type": "markdown",
   "id": "cdf43fc8",
   "metadata": {
    "id": "cdf43fc8"
   },
   "source": [
    "## 5. Generowanie ataków adversarialnych"
   ]
  },
  {
   "cell_type": "code",
   "execution_count": null,
   "id": "55c31721",
   "metadata": {
    "id": "55c31721"
   },
   "outputs": [],
   "source": [
    "\n",
    "# Konwersja modelu do formatu Foolbox\n",
    "fmodel = PyTorchModel(model, bounds=(0, 1))\n",
    "\n",
    "# Pobieranie przykładowych danych\n",
    "images_tensor = torch.tensor(X_val, dtype=torch.float32).permute(0, 3, 1, 2)\n",
    "labels_tensor = torch.tensor(np.argmax(y_val, axis=1))\n",
    "\n",
    "# Generowanie ataku FGSM\n",
    "attack = attacks.FGSM()\n",
    "adversarial_examples = attack(fmodel, images_tensor, labels_tensor)\n"
   ]
  },
  {
   "cell_type": "markdown",
   "id": "e7da2426",
   "metadata": {
    "id": "e7da2426"
   },
   "source": [
    "## 6. Ewaluacja odporności"
   ]
  },
  {
   "cell_type": "code",
   "execution_count": null,
   "id": "d30702cf",
   "metadata": {
    "id": "d30702cf"
   },
   "outputs": [],
   "source": [
    "\n",
    "# Ocena modelu na danych adversarialnych\n",
    "adv_predictions = fmodel(adversarial_examples)\n",
    "adv_accuracy = accuracy(fmodel, adversarial_examples, labels_tensor)\n",
    "print(f'Adversarial Accuracy: {adv_accuracy}')\n"
   ]
  }
 ],
 "metadata": {
  "colab": {
   "provenance": []
  },
  "kernelspec": {
   "display_name": "Python 3",
   "name": "python3"
  },
  "language_info": {
   "codemirror_mode": {
    "name": "ipython",
    "version": 3
   },
   "file_extension": ".py",
   "mimetype": "text/x-python",
   "name": "python",
   "nbconvert_exporter": "python",
   "pygments_lexer": "ipython3",
   "version": "3.12.5"
  }
 },
 "nbformat": 4,
 "nbformat_minor": 5
}
